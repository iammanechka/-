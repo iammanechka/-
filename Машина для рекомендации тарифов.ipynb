{
 "cells": [
  {
   "cell_type": "markdown",
   "metadata": {},
   "source": [
    "# Рекомендация тарифов"
   ]
  },
  {
   "cell_type": "markdown",
   "metadata": {},
   "source": [
    "В вашем распоряжении данные о поведении клиентов, которые уже перешли на эти тарифы (из проекта курса «Статистический анализ данных»). Нужно построить модель для задачи классификации, которая выберет подходящий тариф. Предобработка данных не понадобится — вы её уже сделали.\n",
    "\n",
    "Постройте модель с максимально большим значением *accuracy*. Чтобы сдать проект успешно, нужно довести долю правильных ответов по крайней мере до 0.75. Проверьте *accuracy* на тестовой выборке самостоятельно."
   ]
  },
  {
   "cell_type": "markdown",
   "metadata": {},
   "source": [
    "## Откройте и изучите файл"
   ]
  },
  {
   "cell_type": "code",
   "execution_count": 1,
   "metadata": {},
   "outputs": [],
   "source": [
    "#Загружаем нужные нам библиотеки\n",
    "\n",
    "import pandas as pd\n",
    "import numpy as np\n",
    "from sklearn.model_selection import train_test_split\n",
    "from sklearn.linear_model import LogisticRegression\n",
    "from sklearn.ensemble import RandomForestClassifier\n",
    "from sklearn.tree import DecisionTreeClassifier\n",
    "from sklearn.dummy import DummyClassifier\n",
    "from sklearn.metrics import accuracy_score\n",
    "from sklearn.metrics import roc_curve\n",
    "from sklearn.metrics import auc\n",
    "from tqdm import tqdm\n",
    "import matplotlib.pyplot as plt"
   ]
  },
  {
   "cell_type": "code",
   "execution_count": 2,
   "metadata": {},
   "outputs": [],
   "source": [
    "#Функция, которая отобразит полную информацию о файле\n",
    "\n",
    "def study(df): \n",
    "    info = display(df.head(10)), df.info(), display(df.describe())"
   ]
  },
  {
   "cell_type": "code",
   "execution_count": 3,
   "metadata": {},
   "outputs": [],
   "source": [
    "#Загружаем файл с данными\n",
    "\n",
    "data = pd.read_csv('/datasets/users_behavior.csv')"
   ]
  },
  {
   "cell_type": "code",
   "execution_count": 4,
   "metadata": {},
   "outputs": [
    {
     "data": {
      "text/html": [
       "<div>\n",
       "<style scoped>\n",
       "    .dataframe tbody tr th:only-of-type {\n",
       "        vertical-align: middle;\n",
       "    }\n",
       "\n",
       "    .dataframe tbody tr th {\n",
       "        vertical-align: top;\n",
       "    }\n",
       "\n",
       "    .dataframe thead th {\n",
       "        text-align: right;\n",
       "    }\n",
       "</style>\n",
       "<table border=\"1\" class=\"dataframe\">\n",
       "  <thead>\n",
       "    <tr style=\"text-align: right;\">\n",
       "      <th></th>\n",
       "      <th>calls</th>\n",
       "      <th>minutes</th>\n",
       "      <th>messages</th>\n",
       "      <th>mb_used</th>\n",
       "      <th>is_ultra</th>\n",
       "    </tr>\n",
       "  </thead>\n",
       "  <tbody>\n",
       "    <tr>\n",
       "      <th>0</th>\n",
       "      <td>40.0</td>\n",
       "      <td>311.90</td>\n",
       "      <td>83.0</td>\n",
       "      <td>19915.42</td>\n",
       "      <td>0</td>\n",
       "    </tr>\n",
       "    <tr>\n",
       "      <th>1</th>\n",
       "      <td>85.0</td>\n",
       "      <td>516.75</td>\n",
       "      <td>56.0</td>\n",
       "      <td>22696.96</td>\n",
       "      <td>0</td>\n",
       "    </tr>\n",
       "    <tr>\n",
       "      <th>2</th>\n",
       "      <td>77.0</td>\n",
       "      <td>467.66</td>\n",
       "      <td>86.0</td>\n",
       "      <td>21060.45</td>\n",
       "      <td>0</td>\n",
       "    </tr>\n",
       "    <tr>\n",
       "      <th>3</th>\n",
       "      <td>106.0</td>\n",
       "      <td>745.53</td>\n",
       "      <td>81.0</td>\n",
       "      <td>8437.39</td>\n",
       "      <td>1</td>\n",
       "    </tr>\n",
       "    <tr>\n",
       "      <th>4</th>\n",
       "      <td>66.0</td>\n",
       "      <td>418.74</td>\n",
       "      <td>1.0</td>\n",
       "      <td>14502.75</td>\n",
       "      <td>0</td>\n",
       "    </tr>\n",
       "    <tr>\n",
       "      <th>5</th>\n",
       "      <td>58.0</td>\n",
       "      <td>344.56</td>\n",
       "      <td>21.0</td>\n",
       "      <td>15823.37</td>\n",
       "      <td>0</td>\n",
       "    </tr>\n",
       "    <tr>\n",
       "      <th>6</th>\n",
       "      <td>57.0</td>\n",
       "      <td>431.64</td>\n",
       "      <td>20.0</td>\n",
       "      <td>3738.90</td>\n",
       "      <td>1</td>\n",
       "    </tr>\n",
       "    <tr>\n",
       "      <th>7</th>\n",
       "      <td>15.0</td>\n",
       "      <td>132.40</td>\n",
       "      <td>6.0</td>\n",
       "      <td>21911.60</td>\n",
       "      <td>0</td>\n",
       "    </tr>\n",
       "    <tr>\n",
       "      <th>8</th>\n",
       "      <td>7.0</td>\n",
       "      <td>43.39</td>\n",
       "      <td>3.0</td>\n",
       "      <td>2538.67</td>\n",
       "      <td>1</td>\n",
       "    </tr>\n",
       "    <tr>\n",
       "      <th>9</th>\n",
       "      <td>90.0</td>\n",
       "      <td>665.41</td>\n",
       "      <td>38.0</td>\n",
       "      <td>17358.61</td>\n",
       "      <td>0</td>\n",
       "    </tr>\n",
       "  </tbody>\n",
       "</table>\n",
       "</div>"
      ],
      "text/plain": [
       "   calls  minutes  messages   mb_used  is_ultra\n",
       "0   40.0   311.90      83.0  19915.42         0\n",
       "1   85.0   516.75      56.0  22696.96         0\n",
       "2   77.0   467.66      86.0  21060.45         0\n",
       "3  106.0   745.53      81.0   8437.39         1\n",
       "4   66.0   418.74       1.0  14502.75         0\n",
       "5   58.0   344.56      21.0  15823.37         0\n",
       "6   57.0   431.64      20.0   3738.90         1\n",
       "7   15.0   132.40       6.0  21911.60         0\n",
       "8    7.0    43.39       3.0   2538.67         1\n",
       "9   90.0   665.41      38.0  17358.61         0"
      ]
     },
     "metadata": {},
     "output_type": "display_data"
    },
    {
     "name": "stdout",
     "output_type": "stream",
     "text": [
      "<class 'pandas.core.frame.DataFrame'>\n",
      "RangeIndex: 3214 entries, 0 to 3213\n",
      "Data columns (total 5 columns):\n",
      " #   Column    Non-Null Count  Dtype  \n",
      "---  ------    --------------  -----  \n",
      " 0   calls     3214 non-null   float64\n",
      " 1   minutes   3214 non-null   float64\n",
      " 2   messages  3214 non-null   float64\n",
      " 3   mb_used   3214 non-null   float64\n",
      " 4   is_ultra  3214 non-null   int64  \n",
      "dtypes: float64(4), int64(1)\n",
      "memory usage: 125.7 KB\n"
     ]
    },
    {
     "data": {
      "text/html": [
       "<div>\n",
       "<style scoped>\n",
       "    .dataframe tbody tr th:only-of-type {\n",
       "        vertical-align: middle;\n",
       "    }\n",
       "\n",
       "    .dataframe tbody tr th {\n",
       "        vertical-align: top;\n",
       "    }\n",
       "\n",
       "    .dataframe thead th {\n",
       "        text-align: right;\n",
       "    }\n",
       "</style>\n",
       "<table border=\"1\" class=\"dataframe\">\n",
       "  <thead>\n",
       "    <tr style=\"text-align: right;\">\n",
       "      <th></th>\n",
       "      <th>calls</th>\n",
       "      <th>minutes</th>\n",
       "      <th>messages</th>\n",
       "      <th>mb_used</th>\n",
       "      <th>is_ultra</th>\n",
       "    </tr>\n",
       "  </thead>\n",
       "  <tbody>\n",
       "    <tr>\n",
       "      <th>count</th>\n",
       "      <td>3214.000000</td>\n",
       "      <td>3214.000000</td>\n",
       "      <td>3214.000000</td>\n",
       "      <td>3214.000000</td>\n",
       "      <td>3214.000000</td>\n",
       "    </tr>\n",
       "    <tr>\n",
       "      <th>mean</th>\n",
       "      <td>63.038892</td>\n",
       "      <td>438.208787</td>\n",
       "      <td>38.281269</td>\n",
       "      <td>17207.673836</td>\n",
       "      <td>0.306472</td>\n",
       "    </tr>\n",
       "    <tr>\n",
       "      <th>std</th>\n",
       "      <td>33.236368</td>\n",
       "      <td>234.569872</td>\n",
       "      <td>36.148326</td>\n",
       "      <td>7570.968246</td>\n",
       "      <td>0.461100</td>\n",
       "    </tr>\n",
       "    <tr>\n",
       "      <th>min</th>\n",
       "      <td>0.000000</td>\n",
       "      <td>0.000000</td>\n",
       "      <td>0.000000</td>\n",
       "      <td>0.000000</td>\n",
       "      <td>0.000000</td>\n",
       "    </tr>\n",
       "    <tr>\n",
       "      <th>25%</th>\n",
       "      <td>40.000000</td>\n",
       "      <td>274.575000</td>\n",
       "      <td>9.000000</td>\n",
       "      <td>12491.902500</td>\n",
       "      <td>0.000000</td>\n",
       "    </tr>\n",
       "    <tr>\n",
       "      <th>50%</th>\n",
       "      <td>62.000000</td>\n",
       "      <td>430.600000</td>\n",
       "      <td>30.000000</td>\n",
       "      <td>16943.235000</td>\n",
       "      <td>0.000000</td>\n",
       "    </tr>\n",
       "    <tr>\n",
       "      <th>75%</th>\n",
       "      <td>82.000000</td>\n",
       "      <td>571.927500</td>\n",
       "      <td>57.000000</td>\n",
       "      <td>21424.700000</td>\n",
       "      <td>1.000000</td>\n",
       "    </tr>\n",
       "    <tr>\n",
       "      <th>max</th>\n",
       "      <td>244.000000</td>\n",
       "      <td>1632.060000</td>\n",
       "      <td>224.000000</td>\n",
       "      <td>49745.730000</td>\n",
       "      <td>1.000000</td>\n",
       "    </tr>\n",
       "  </tbody>\n",
       "</table>\n",
       "</div>"
      ],
      "text/plain": [
       "             calls      minutes     messages       mb_used     is_ultra\n",
       "count  3214.000000  3214.000000  3214.000000   3214.000000  3214.000000\n",
       "mean     63.038892   438.208787    38.281269  17207.673836     0.306472\n",
       "std      33.236368   234.569872    36.148326   7570.968246     0.461100\n",
       "min       0.000000     0.000000     0.000000      0.000000     0.000000\n",
       "25%      40.000000   274.575000     9.000000  12491.902500     0.000000\n",
       "50%      62.000000   430.600000    30.000000  16943.235000     0.000000\n",
       "75%      82.000000   571.927500    57.000000  21424.700000     1.000000\n",
       "max     244.000000  1632.060000   224.000000  49745.730000     1.000000"
      ]
     },
     "metadata": {},
     "output_type": "display_data"
    }
   ],
   "source": [
    "#Посмотрим полную информацию о файле\n",
    "\n",
    "study(data)"
   ]
  },
  {
   "cell_type": "markdown",
   "metadata": {},
   "source": [
    "Приведем тип данных в столбцах calls и messages к int64. Проверим данные на явные дубликаты."
   ]
  },
  {
   "cell_type": "code",
   "execution_count": 5,
   "metadata": {},
   "outputs": [],
   "source": [
    "for column in data[['calls','messages']]:\n",
    "    data[column] = data[column].astype(\"int\")"
   ]
  },
  {
   "cell_type": "code",
   "execution_count": 6,
   "metadata": {},
   "outputs": [
    {
     "data": {
      "text/plain": [
       "0"
      ]
     },
     "execution_count": 6,
     "metadata": {},
     "output_type": "execute_result"
    }
   ],
   "source": [
    "data.duplicated().sum()"
   ]
  },
  {
   "cell_type": "code",
   "execution_count": 7,
   "metadata": {},
   "outputs": [
    {
     "data": {
      "text/html": [
       "<div>\n",
       "<style scoped>\n",
       "    .dataframe tbody tr th:only-of-type {\n",
       "        vertical-align: middle;\n",
       "    }\n",
       "\n",
       "    .dataframe tbody tr th {\n",
       "        vertical-align: top;\n",
       "    }\n",
       "\n",
       "    .dataframe thead th {\n",
       "        text-align: right;\n",
       "    }\n",
       "</style>\n",
       "<table border=\"1\" class=\"dataframe\">\n",
       "  <thead>\n",
       "    <tr style=\"text-align: right;\">\n",
       "      <th></th>\n",
       "      <th>calls</th>\n",
       "      <th>minutes</th>\n",
       "      <th>messages</th>\n",
       "      <th>mb_used</th>\n",
       "      <th>is_ultra</th>\n",
       "    </tr>\n",
       "  </thead>\n",
       "  <tbody>\n",
       "    <tr>\n",
       "      <th>0</th>\n",
       "      <td>40</td>\n",
       "      <td>311.90</td>\n",
       "      <td>83</td>\n",
       "      <td>19915.42</td>\n",
       "      <td>0</td>\n",
       "    </tr>\n",
       "    <tr>\n",
       "      <th>1</th>\n",
       "      <td>85</td>\n",
       "      <td>516.75</td>\n",
       "      <td>56</td>\n",
       "      <td>22696.96</td>\n",
       "      <td>0</td>\n",
       "    </tr>\n",
       "    <tr>\n",
       "      <th>2</th>\n",
       "      <td>77</td>\n",
       "      <td>467.66</td>\n",
       "      <td>86</td>\n",
       "      <td>21060.45</td>\n",
       "      <td>0</td>\n",
       "    </tr>\n",
       "    <tr>\n",
       "      <th>3</th>\n",
       "      <td>106</td>\n",
       "      <td>745.53</td>\n",
       "      <td>81</td>\n",
       "      <td>8437.39</td>\n",
       "      <td>1</td>\n",
       "    </tr>\n",
       "    <tr>\n",
       "      <th>4</th>\n",
       "      <td>66</td>\n",
       "      <td>418.74</td>\n",
       "      <td>1</td>\n",
       "      <td>14502.75</td>\n",
       "      <td>0</td>\n",
       "    </tr>\n",
       "    <tr>\n",
       "      <th>5</th>\n",
       "      <td>58</td>\n",
       "      <td>344.56</td>\n",
       "      <td>21</td>\n",
       "      <td>15823.37</td>\n",
       "      <td>0</td>\n",
       "    </tr>\n",
       "    <tr>\n",
       "      <th>6</th>\n",
       "      <td>57</td>\n",
       "      <td>431.64</td>\n",
       "      <td>20</td>\n",
       "      <td>3738.90</td>\n",
       "      <td>1</td>\n",
       "    </tr>\n",
       "    <tr>\n",
       "      <th>7</th>\n",
       "      <td>15</td>\n",
       "      <td>132.40</td>\n",
       "      <td>6</td>\n",
       "      <td>21911.60</td>\n",
       "      <td>0</td>\n",
       "    </tr>\n",
       "    <tr>\n",
       "      <th>8</th>\n",
       "      <td>7</td>\n",
       "      <td>43.39</td>\n",
       "      <td>3</td>\n",
       "      <td>2538.67</td>\n",
       "      <td>1</td>\n",
       "    </tr>\n",
       "    <tr>\n",
       "      <th>9</th>\n",
       "      <td>90</td>\n",
       "      <td>665.41</td>\n",
       "      <td>38</td>\n",
       "      <td>17358.61</td>\n",
       "      <td>0</td>\n",
       "    </tr>\n",
       "  </tbody>\n",
       "</table>\n",
       "</div>"
      ],
      "text/plain": [
       "   calls  minutes  messages   mb_used  is_ultra\n",
       "0     40   311.90        83  19915.42         0\n",
       "1     85   516.75        56  22696.96         0\n",
       "2     77   467.66        86  21060.45         0\n",
       "3    106   745.53        81   8437.39         1\n",
       "4     66   418.74         1  14502.75         0\n",
       "5     58   344.56        21  15823.37         0\n",
       "6     57   431.64        20   3738.90         1\n",
       "7     15   132.40         6  21911.60         0\n",
       "8      7    43.39         3   2538.67         1\n",
       "9     90   665.41        38  17358.61         0"
      ]
     },
     "metadata": {},
     "output_type": "display_data"
    },
    {
     "name": "stdout",
     "output_type": "stream",
     "text": [
      "<class 'pandas.core.frame.DataFrame'>\n",
      "RangeIndex: 3214 entries, 0 to 3213\n",
      "Data columns (total 5 columns):\n",
      " #   Column    Non-Null Count  Dtype  \n",
      "---  ------    --------------  -----  \n",
      " 0   calls     3214 non-null   int64  \n",
      " 1   minutes   3214 non-null   float64\n",
      " 2   messages  3214 non-null   int64  \n",
      " 3   mb_used   3214 non-null   float64\n",
      " 4   is_ultra  3214 non-null   int64  \n",
      "dtypes: float64(2), int64(3)\n",
      "memory usage: 125.7 KB\n"
     ]
    },
    {
     "data": {
      "text/html": [
       "<div>\n",
       "<style scoped>\n",
       "    .dataframe tbody tr th:only-of-type {\n",
       "        vertical-align: middle;\n",
       "    }\n",
       "\n",
       "    .dataframe tbody tr th {\n",
       "        vertical-align: top;\n",
       "    }\n",
       "\n",
       "    .dataframe thead th {\n",
       "        text-align: right;\n",
       "    }\n",
       "</style>\n",
       "<table border=\"1\" class=\"dataframe\">\n",
       "  <thead>\n",
       "    <tr style=\"text-align: right;\">\n",
       "      <th></th>\n",
       "      <th>calls</th>\n",
       "      <th>minutes</th>\n",
       "      <th>messages</th>\n",
       "      <th>mb_used</th>\n",
       "      <th>is_ultra</th>\n",
       "    </tr>\n",
       "  </thead>\n",
       "  <tbody>\n",
       "    <tr>\n",
       "      <th>count</th>\n",
       "      <td>3214.000000</td>\n",
       "      <td>3214.000000</td>\n",
       "      <td>3214.000000</td>\n",
       "      <td>3214.000000</td>\n",
       "      <td>3214.000000</td>\n",
       "    </tr>\n",
       "    <tr>\n",
       "      <th>mean</th>\n",
       "      <td>63.038892</td>\n",
       "      <td>438.208787</td>\n",
       "      <td>38.281269</td>\n",
       "      <td>17207.673836</td>\n",
       "      <td>0.306472</td>\n",
       "    </tr>\n",
       "    <tr>\n",
       "      <th>std</th>\n",
       "      <td>33.236368</td>\n",
       "      <td>234.569872</td>\n",
       "      <td>36.148326</td>\n",
       "      <td>7570.968246</td>\n",
       "      <td>0.461100</td>\n",
       "    </tr>\n",
       "    <tr>\n",
       "      <th>min</th>\n",
       "      <td>0.000000</td>\n",
       "      <td>0.000000</td>\n",
       "      <td>0.000000</td>\n",
       "      <td>0.000000</td>\n",
       "      <td>0.000000</td>\n",
       "    </tr>\n",
       "    <tr>\n",
       "      <th>25%</th>\n",
       "      <td>40.000000</td>\n",
       "      <td>274.575000</td>\n",
       "      <td>9.000000</td>\n",
       "      <td>12491.902500</td>\n",
       "      <td>0.000000</td>\n",
       "    </tr>\n",
       "    <tr>\n",
       "      <th>50%</th>\n",
       "      <td>62.000000</td>\n",
       "      <td>430.600000</td>\n",
       "      <td>30.000000</td>\n",
       "      <td>16943.235000</td>\n",
       "      <td>0.000000</td>\n",
       "    </tr>\n",
       "    <tr>\n",
       "      <th>75%</th>\n",
       "      <td>82.000000</td>\n",
       "      <td>571.927500</td>\n",
       "      <td>57.000000</td>\n",
       "      <td>21424.700000</td>\n",
       "      <td>1.000000</td>\n",
       "    </tr>\n",
       "    <tr>\n",
       "      <th>max</th>\n",
       "      <td>244.000000</td>\n",
       "      <td>1632.060000</td>\n",
       "      <td>224.000000</td>\n",
       "      <td>49745.730000</td>\n",
       "      <td>1.000000</td>\n",
       "    </tr>\n",
       "  </tbody>\n",
       "</table>\n",
       "</div>"
      ],
      "text/plain": [
       "             calls      minutes     messages       mb_used     is_ultra\n",
       "count  3214.000000  3214.000000  3214.000000   3214.000000  3214.000000\n",
       "mean     63.038892   438.208787    38.281269  17207.673836     0.306472\n",
       "std      33.236368   234.569872    36.148326   7570.968246     0.461100\n",
       "min       0.000000     0.000000     0.000000      0.000000     0.000000\n",
       "25%      40.000000   274.575000     9.000000  12491.902500     0.000000\n",
       "50%      62.000000   430.600000    30.000000  16943.235000     0.000000\n",
       "75%      82.000000   571.927500    57.000000  21424.700000     1.000000\n",
       "max     244.000000  1632.060000   224.000000  49745.730000     1.000000"
      ]
     },
     "metadata": {},
     "output_type": "display_data"
    }
   ],
   "source": [
    "#Посмотрим обновленные данные\n",
    "\n",
    "study(data)"
   ]
  },
  {
   "cell_type": "markdown",
   "metadata": {},
   "source": [
    "# Вывод\n",
    "\n",
    "Мы убедились, что данные, в целом, чистые. Привели столбцы calls и messages к типу int. "
   ]
  },
  {
   "cell_type": "markdown",
   "metadata": {},
   "source": [
    "## Разбейте данные на выборки"
   ]
  },
  {
   "cell_type": "code",
   "execution_count": 8,
   "metadata": {},
   "outputs": [],
   "source": [
    "features = data.drop(['is_ultra'], axis=1)\n",
    "\n",
    "target = data['is_ultra']"
   ]
  },
  {
   "cell_type": "markdown",
   "metadata": {},
   "source": [
    "Спрятанной тестовой выборки нет. Поэтому, данные разобьем на три части: обучающую, валидационную и тестовую. Исходные данные разбивают в соотношении 3:1:1."
   ]
  },
  {
   "cell_type": "markdown",
   "metadata": {},
   "source": [
    "### Обучающая выборка"
   ]
  },
  {
   "cell_type": "code",
   "execution_count": 9,
   "metadata": {},
   "outputs": [],
   "source": [
    "features_train, features_test, target_train, target_test = train_test_split(features, \n",
    "                                                                            target, \n",
    "                                                                            test_size=0.4, \n",
    "                                                                            random_state=12345\n",
    "                                                                           ) "
   ]
  },
  {
   "cell_type": "code",
   "execution_count": 10,
   "metadata": {},
   "outputs": [
    {
     "name": "stdout",
     "output_type": "stream",
     "text": [
      "(1928, 4)\n",
      "(1928,)\n"
     ]
    }
   ],
   "source": [
    "#Посмотрим размер обучающей выборки\n",
    "\n",
    "print(features_train.shape)\n",
    "print(target_train.shape)"
   ]
  },
  {
   "cell_type": "markdown",
   "metadata": {},
   "source": [
    "### Валидационная и тестовая выборки"
   ]
  },
  {
   "cell_type": "code",
   "execution_count": 11,
   "metadata": {},
   "outputs": [],
   "source": [
    "features_valid, features_test, target_valid, target_test = train_test_split(features_test, \n",
    "                                                                            target_test, \n",
    "                                                                            test_size=0.5, \n",
    "                                                                            random_state=12345\n",
    "                                                                           ) "
   ]
  },
  {
   "cell_type": "code",
   "execution_count": 12,
   "metadata": {},
   "outputs": [
    {
     "name": "stdout",
     "output_type": "stream",
     "text": [
      "(643, 4)\n",
      "(643,)\n"
     ]
    }
   ],
   "source": [
    "#Посмотрим размер валидационной выборки\n",
    "\n",
    "print(features_valid.shape)\n",
    "print(target_valid.shape)"
   ]
  },
  {
   "cell_type": "code",
   "execution_count": 13,
   "metadata": {},
   "outputs": [
    {
     "name": "stdout",
     "output_type": "stream",
     "text": [
      "(643, 4)\n",
      "(643,)\n"
     ]
    }
   ],
   "source": [
    "#Посмотрим размер тестовой выборки\n",
    "\n",
    "print(features_test.shape)\n",
    "print(target_test.shape)"
   ]
  },
  {
   "cell_type": "markdown",
   "metadata": {},
   "source": [
    "## Исследуйте модели"
   ]
  },
  {
   "cell_type": "markdown",
   "metadata": {},
   "source": [
    "### Decision Tree Classifier"
   ]
  },
  {
   "cell_type": "code",
   "execution_count": 14,
   "metadata": {},
   "outputs": [
    {
     "name": "stderr",
     "output_type": "stream",
     "text": [
      "100%|██████████| 10/10 [00:00<00:00, 33.08it/s]\n"
     ]
    }
   ],
   "source": [
    "best_model_dtc = None\n",
    "best_depth_dtc = 0\n",
    "best_result_dtc = 0\n",
    "for depth in tqdm(range(1, 11)):\n",
    "    model_dtc = DecisionTreeClassifier(random_state=12345, max_depth = depth).fit(features_train, target_train)\n",
    "    predictions_valid_dtc = model_dtc.predict(features_valid)\n",
    "    result_dtc = accuracy_score(predictions_valid_dtc, target_valid)\n",
    "    if best_result_dtc < result_dtc:\n",
    "        best_model_dtc = model_dtc\n",
    "        best_depth_dtc = depth\n",
    "        best_result_dtc = result_dtc"
   ]
  },
  {
   "cell_type": "code",
   "execution_count": 15,
   "metadata": {},
   "outputs": [
    {
     "name": "stdout",
     "output_type": "stream",
     "text": [
      "best max_depth = 3 ;  best Accuracy =  0.7853810264385692"
     ]
    }
   ],
   "source": [
    "print('best max_depth =', \n",
    "      best_depth_dtc, \n",
    "      '; ', \n",
    "      'best Accuracy = ', \n",
    "      best_result_dtc, \n",
    "      end =''\n",
    "     ) "
   ]
  },
  {
   "cell_type": "markdown",
   "metadata": {},
   "source": [
    "# Вывод\n",
    "\n",
    "Accuracy лучшей модели из десяти равно 0.7853810264385692, с гиперпараметром max_depth равным - 3, ресурсозатратность же равна, при заданных 10 иттераций, 152.55it/s."
   ]
  },
  {
   "cell_type": "markdown",
   "metadata": {},
   "source": [
    "### Random Forest Classifier"
   ]
  },
  {
   "cell_type": "code",
   "execution_count": 16,
   "metadata": {},
   "outputs": [
    {
     "name": "stderr",
     "output_type": "stream",
     "text": [
      "100%|██████████| 5/5 [00:20<00:00,  4.19s/it]\n"
     ]
    }
   ],
   "source": [
    "best_model_rfc = None\n",
    "best_est_rfc = 0\n",
    "best_depth_rfc = 0\n",
    "best_result_rfc = 0\n",
    "for est in tqdm(range(10, 51, 10)):\n",
    "    for depth in range(1, 11):\n",
    "        model_rfc = RandomForestClassifier(random_state=12345, n_estimators=est, max_depth = depth).fit(features_train, target_train)\n",
    "        predictions_valid_rfc = model_rfc.predict(features_valid)\n",
    "        result_rfc = accuracy_score(predictions_valid_rfc, target_valid)\n",
    "        if best_result_rfc < result_rfc:\n",
    "            best_model_rfc = model_rfc\n",
    "            best_est_rfc = est\n",
    "            best_depth_rfc = depth\n",
    "            best_result_rfc = result_rfc"
   ]
  },
  {
   "cell_type": "code",
   "execution_count": 17,
   "metadata": {},
   "outputs": [
    {
     "name": "stdout",
     "output_type": "stream",
     "text": [
      "best n_estimators = 40 ;  best max_depth = 8 ;  best Accuracy =  0.8087091757387247"
     ]
    }
   ],
   "source": [
    "print('best n_estimators =', \n",
    "      best_est_rfc, \n",
    "      '; ', \n",
    "      'best max_depth =', \n",
    "      best_depth_rfc, \n",
    "      '; ', \n",
    "      'best Accuracy = ', \n",
    "      best_result_rfc, \n",
    "      end =''\n",
    "     ) "
   ]
  },
  {
   "cell_type": "markdown",
   "metadata": {},
   "source": [
    "# Вывод\n",
    "\n",
    "Accuracy лучшей модели из десяти равно 0.8087091757387247, с гиперпараметром n_estimators = 40 и max_depth = 8, ресурсозатратность же равна, при заданных 10 иттераций, 1.19it/s."
   ]
  },
  {
   "cell_type": "markdown",
   "metadata": {},
   "source": [
    "### Logistic Regression"
   ]
  },
  {
   "cell_type": "code",
   "execution_count": 18,
   "metadata": {},
   "outputs": [
    {
     "name": "stdout",
     "output_type": "stream",
     "text": [
      "Accuracy LogisticRegression: 0.7107309486780715"
     ]
    }
   ],
   "source": [
    "model_lr = LogisticRegression(random_state=12345).fit(features_train, target_train)\n",
    "predictions_valid_lr = model_lr.predict(features_valid)\n",
    "accuracy_lr = accuracy_score(predictions_valid_lr, target_valid)\n",
    "print('Accuracy LogisticRegression:', accuracy_lr, end ='')"
   ]
  },
  {
   "cell_type": "markdown",
   "metadata": {},
   "source": [
    "# Вывод\n",
    "\n",
    "Accuracy модели Logistic Regression равно 0.7107309486780715."
   ]
  },
  {
   "cell_type": "markdown",
   "metadata": {},
   "source": [
    "# Общий вывод\n",
    "\n",
    "наилучший результат Accuracy у модели решающего дерева(Decision Tree Classifier) - 0.7853810264385692, ресурсозатратность же при этом наименьшая,при заданных 10 иттераций, 152.55it/s;\n",
    "\n",
    "наилучший результат Accuracy у модели случайного леса(Random Forest Classifier) - 0.80248833592535, ресурсозатратность же, при заданных 10 иттераций, 5.76it/s.\n",
    "\n",
    "результат Accuracy у модели логистической регрессии(LogisticRegression) - 0.7589424572317263.\n",
    "\n",
    "Наиболее эффективно (точность и скорость) себя показала модель случайного леса(Random Forest Classifier), поэтому для тестовой проверки выберем её."
   ]
  },
  {
   "cell_type": "markdown",
   "metadata": {},
   "source": [
    "## Проверьте модель на тестовой выборке"
   ]
  },
  {
   "cell_type": "code",
   "execution_count": 19,
   "metadata": {},
   "outputs": [
    {
     "name": "stdout",
     "output_type": "stream",
     "text": [
      "Accuracy RandomForestClassifier: 0.7962674961119751\n"
     ]
    }
   ],
   "source": [
    "model_rfc = RandomForestClassifier(random_state=12345, n_estimators = 8, max_depth = 8).fit(features_train, target_train)\n",
    "predictions_test_rfc = model_rfc.predict(features_test)\n",
    "result_test_rfc = accuracy_score(predictions_test_rfc, target_test)\n",
    "print('Accuracy RandomForestClassifier:', result_test_rfc)"
   ]
  },
  {
   "cell_type": "markdown",
   "metadata": {},
   "source": [
    "# Вывод\n",
    "\n",
    "Accuracy у модели случайного леса(Random Forest Classifier) на тестовой выборке равна 0.7962674961119751"
   ]
  },
  {
   "cell_type": "markdown",
   "metadata": {},
   "source": [
    "## (бонус) Проверьте модели на адекватность"
   ]
  },
  {
   "cell_type": "markdown",
   "metadata": {},
   "source": [
    "Для проверки используем модель DummyClassifier."
   ]
  },
  {
   "cell_type": "code",
   "execution_count": 20,
   "metadata": {},
   "outputs": [
    {
     "name": "stdout",
     "output_type": "stream",
     "text": [
      "Accuracy DummyClassifier: 0.7060653188180405\n"
     ]
    }
   ],
   "source": [
    "model_dc = DummyClassifier(strategy='most_frequent', random_state=12345)\n",
    "model_dc.fit(features_train, target_train)\n",
    "result_dc = model_dc.score(features_valid, target_valid)\n",
    "print('Accuracy DummyClassifier:', result_dc)"
   ]
  },
  {
   "cell_type": "code",
   "execution_count": 21,
   "metadata": {},
   "outputs": [
    {
     "name": "stdout",
     "output_type": "stream",
     "text": [
      "Accuracy RandomForestClassifier: 0.7962674961119751\n"
     ]
    }
   ],
   "source": [
    "print('Accuracy RandomForestClassifier:', result_test_rfc)"
   ]
  },
  {
   "cell_type": "markdown",
   "metadata": {},
   "source": [
    "# Вывод\n",
    "\n",
    "Accuracy модели DummyClassifier ниже, чем у модели RandomForestClassifier - модель адекватна и эффективна."
   ]
  },
  {
   "cell_type": "markdown",
   "metadata": {},
   "source": [
    "# Общий вывод\n",
    "\n",
    "1) Предоставленные данные оказались чистыми, немного скорректировали типы данных в столбцах calls и messages;\n",
    "\n",
    "2) Были исследованы модели Decision Tree Classifier, Random Forest Classifier и Logistic Regression;\n",
    "\n",
    "3) Наилучшую эффективность (точность и скорость) показала модель Random Forest Classifier с гиперпараметрами n_estimators равным - 8 и max_depth равным 8;\n",
    "\n",
    "4) Модель Random Forest Classifier с наилучшими гиперапараметрами была проверена на тестовой выборке и показала результат Accuracy 0.7962674961119751;\n",
    "\n",
    "5) Модель Random Forest Classifier, проверенная на тестовой выборке, была проверена на вменяемость: для проверки использовалась модель DummyClassifier, которая показала результат Accuracy - 0.7060653188180405."
   ]
  }
 ],
 "metadata": {
  "ExecuteTimeLog": [
   {
    "duration": 1617,
    "start_time": "2023-01-18T08:17:12.880Z"
   },
   {
    "duration": 6,
    "start_time": "2023-01-18T08:17:14.499Z"
   },
   {
    "duration": 75,
    "start_time": "2023-01-18T08:17:36.465Z"
   },
   {
    "duration": 54,
    "start_time": "2023-01-18T08:18:17.652Z"
   },
   {
    "duration": 129,
    "start_time": "2023-01-18T08:22:20.495Z"
   },
   {
    "duration": 5,
    "start_time": "2023-01-18T08:22:37.884Z"
   },
   {
    "duration": 8,
    "start_time": "2023-01-18T08:22:54.825Z"
   },
   {
    "duration": 34,
    "start_time": "2023-01-18T08:23:14.343Z"
   },
   {
    "duration": 37,
    "start_time": "2023-01-18T08:23:42.905Z"
   },
   {
    "duration": 10,
    "start_time": "2023-01-18T08:29:39.882Z"
   },
   {
    "duration": 5,
    "start_time": "2023-01-18T08:29:52.440Z"
   },
   {
    "duration": 7,
    "start_time": "2023-01-18T08:31:38.686Z"
   },
   {
    "duration": 5,
    "start_time": "2023-01-18T08:32:20.735Z"
   },
   {
    "duration": 5,
    "start_time": "2023-01-18T08:40:27.975Z"
   },
   {
    "duration": 3,
    "start_time": "2023-01-18T08:41:30.913Z"
   },
   {
    "duration": 3,
    "start_time": "2023-01-18T08:42:11.766Z"
   },
   {
    "duration": 72,
    "start_time": "2023-01-18T08:44:05.366Z"
   },
   {
    "duration": 3,
    "start_time": "2023-01-18T08:44:24.563Z"
   },
   {
    "duration": 78,
    "start_time": "2023-01-18T08:48:46.984Z"
   },
   {
    "duration": 70,
    "start_time": "2023-01-18T08:48:54.882Z"
   },
   {
    "duration": 1744,
    "start_time": "2023-01-18T08:49:11.275Z"
   },
   {
    "duration": 6,
    "start_time": "2023-01-18T08:49:47.536Z"
   },
   {
    "duration": 26,
    "start_time": "2023-01-18T08:52:30.274Z"
   },
   {
    "duration": 13,
    "start_time": "2023-01-18T09:04:58.473Z"
   },
   {
    "duration": 34,
    "start_time": "2023-01-18T09:06:05.435Z"
   },
   {
    "duration": 6,
    "start_time": "2023-01-18T09:08:50.070Z"
   },
   {
    "duration": 4,
    "start_time": "2023-01-18T09:09:10.662Z"
   },
   {
    "duration": 2803,
    "start_time": "2023-01-18T09:44:41.452Z"
   },
   {
    "duration": 3,
    "start_time": "2023-01-18T09:44:44.257Z"
   },
   {
    "duration": 36,
    "start_time": "2023-01-18T09:44:44.261Z"
   },
   {
    "duration": 41,
    "start_time": "2023-01-18T09:44:44.299Z"
   },
   {
    "duration": 5,
    "start_time": "2023-01-18T09:44:44.342Z"
   },
   {
    "duration": 11,
    "start_time": "2023-01-18T09:44:44.348Z"
   },
   {
    "duration": 34,
    "start_time": "2023-01-18T09:44:44.361Z"
   },
   {
    "duration": 8,
    "start_time": "2023-01-18T09:44:44.396Z"
   },
   {
    "duration": 5,
    "start_time": "2023-01-18T09:44:44.407Z"
   },
   {
    "duration": 18,
    "start_time": "2023-01-18T09:44:44.414Z"
   },
   {
    "duration": 13,
    "start_time": "2023-01-18T09:44:44.434Z"
   },
   {
    "duration": 7,
    "start_time": "2023-01-18T09:44:44.449Z"
   },
   {
    "duration": 11,
    "start_time": "2023-01-18T09:44:44.457Z"
   },
   {
    "duration": 73,
    "start_time": "2023-01-18T09:44:44.472Z"
   },
   {
    "duration": 3,
    "start_time": "2023-01-18T09:44:44.547Z"
   },
   {
    "duration": 2207,
    "start_time": "2023-01-18T09:44:44.552Z"
   },
   {
    "duration": 6,
    "start_time": "2023-01-18T09:44:46.761Z"
   },
   {
    "duration": 71,
    "start_time": "2023-01-18T09:44:46.769Z"
   },
   {
    "duration": 65,
    "start_time": "2023-01-18T09:44:46.842Z"
   },
   {
    "duration": 6,
    "start_time": "2023-01-18T09:44:46.908Z"
   },
   {
    "duration": 29,
    "start_time": "2023-01-18T09:44:46.915Z"
   },
   {
    "duration": 4,
    "start_time": "2023-01-18T09:53:49.281Z"
   },
   {
    "duration": 1450,
    "start_time": "2023-01-18T10:01:32.219Z"
   },
   {
    "duration": 3,
    "start_time": "2023-01-18T10:01:33.672Z"
   },
   {
    "duration": 33,
    "start_time": "2023-01-18T10:01:33.677Z"
   },
   {
    "duration": 45,
    "start_time": "2023-01-18T10:01:33.712Z"
   },
   {
    "duration": 6,
    "start_time": "2023-01-18T10:01:33.759Z"
   },
   {
    "duration": 21,
    "start_time": "2023-01-18T10:01:33.767Z"
   },
   {
    "duration": 55,
    "start_time": "2023-01-18T10:01:33.805Z"
   },
   {
    "duration": 4,
    "start_time": "2023-01-18T10:01:33.862Z"
   },
   {
    "duration": 14,
    "start_time": "2023-01-18T10:01:33.868Z"
   },
   {
    "duration": 21,
    "start_time": "2023-01-18T10:01:33.885Z"
   },
   {
    "duration": 10,
    "start_time": "2023-01-18T10:01:33.908Z"
   },
   {
    "duration": 6,
    "start_time": "2023-01-18T10:01:33.920Z"
   },
   {
    "duration": 19,
    "start_time": "2023-01-18T10:01:33.928Z"
   },
   {
    "duration": 90,
    "start_time": "2023-01-18T10:01:33.949Z"
   },
   {
    "duration": 4,
    "start_time": "2023-01-18T10:01:34.041Z"
   },
   {
    "duration": 4971,
    "start_time": "2023-01-18T10:01:34.047Z"
   },
   {
    "duration": 5,
    "start_time": "2023-01-18T10:01:39.020Z"
   },
   {
    "duration": 34,
    "start_time": "2023-01-18T10:01:39.027Z"
   },
   {
    "duration": 56,
    "start_time": "2023-01-18T10:01:39.063Z"
   },
   {
    "duration": 7,
    "start_time": "2023-01-18T10:01:39.122Z"
   },
   {
    "duration": 10,
    "start_time": "2023-01-18T10:01:39.131Z"
   },
   {
    "duration": 4111,
    "start_time": "2023-01-18T10:03:18.795Z"
   },
   {
    "duration": 4,
    "start_time": "2023-01-18T10:03:28.665Z"
   },
   {
    "duration": 36,
    "start_time": "2023-01-18T10:04:47.142Z"
   },
   {
    "duration": 8,
    "start_time": "2023-01-18T10:04:57.626Z"
   },
   {
    "duration": 4,
    "start_time": "2023-01-18T10:05:00.844Z"
   },
   {
    "duration": 1620,
    "start_time": "2023-01-18T10:05:11.378Z"
   },
   {
    "duration": 3,
    "start_time": "2023-01-18T10:05:13.002Z"
   },
   {
    "duration": 75,
    "start_time": "2023-01-18T10:05:13.007Z"
   },
   {
    "duration": 54,
    "start_time": "2023-01-18T10:05:13.085Z"
   },
   {
    "duration": 5,
    "start_time": "2023-01-18T10:05:13.141Z"
   },
   {
    "duration": 17,
    "start_time": "2023-01-18T10:05:13.148Z"
   },
   {
    "duration": 59,
    "start_time": "2023-01-18T10:05:13.167Z"
   },
   {
    "duration": 9,
    "start_time": "2023-01-18T10:05:13.228Z"
   },
   {
    "duration": 13,
    "start_time": "2023-01-18T10:05:13.239Z"
   },
   {
    "duration": 9,
    "start_time": "2023-01-18T10:05:13.256Z"
   },
   {
    "duration": 12,
    "start_time": "2023-01-18T10:05:13.267Z"
   },
   {
    "duration": 16,
    "start_time": "2023-01-18T10:05:13.282Z"
   },
   {
    "duration": 10,
    "start_time": "2023-01-18T10:05:13.305Z"
   },
   {
    "duration": 91,
    "start_time": "2023-01-18T10:05:13.317Z"
   },
   {
    "duration": 6,
    "start_time": "2023-01-18T10:05:13.410Z"
   },
   {
    "duration": 4215,
    "start_time": "2023-01-18T10:05:13.423Z"
   },
   {
    "duration": 6,
    "start_time": "2023-01-18T10:05:17.639Z"
   },
   {
    "duration": 57,
    "start_time": "2023-01-18T10:05:17.648Z"
   },
   {
    "duration": 44,
    "start_time": "2023-01-18T10:05:17.709Z"
   },
   {
    "duration": 6,
    "start_time": "2023-01-18T10:05:17.755Z"
   },
   {
    "duration": 63,
    "start_time": "2023-01-18T10:05:17.763Z"
   },
   {
    "duration": 5792,
    "start_time": "2023-01-18T13:09:35.143Z"
   },
   {
    "duration": 3,
    "start_time": "2023-01-18T13:09:40.943Z"
   },
   {
    "duration": 108,
    "start_time": "2023-01-18T13:09:40.947Z"
   },
   {
    "duration": 312,
    "start_time": "2023-01-18T13:09:41.131Z"
   },
   {
    "duration": 74,
    "start_time": "2023-01-18T13:09:41.455Z"
   },
   {
    "duration": 203,
    "start_time": "2023-01-18T13:09:41.531Z"
   },
   {
    "duration": 291,
    "start_time": "2023-01-18T13:09:41.739Z"
   },
   {
    "duration": 4,
    "start_time": "2023-01-18T13:09:42.032Z"
   },
   {
    "duration": 93,
    "start_time": "2023-01-18T13:09:42.038Z"
   },
   {
    "duration": 95,
    "start_time": "2023-01-18T13:09:42.134Z"
   },
   {
    "duration": 98,
    "start_time": "2023-01-18T13:09:42.231Z"
   },
   {
    "duration": 110,
    "start_time": "2023-01-18T13:09:42.331Z"
   },
   {
    "duration": 86,
    "start_time": "2023-01-18T13:09:42.443Z"
   },
   {
    "duration": 407,
    "start_time": "2023-01-18T13:09:42.532Z"
   },
   {
    "duration": 13,
    "start_time": "2023-01-18T13:09:43.026Z"
   },
   {
    "duration": 20003,
    "start_time": "2023-01-18T13:09:43.044Z"
   },
   {
    "duration": 7,
    "start_time": "2023-01-18T13:10:03.129Z"
   },
   {
    "duration": 198,
    "start_time": "2023-01-18T13:10:03.139Z"
   },
   {
    "duration": 297,
    "start_time": "2023-01-18T13:10:03.341Z"
   },
   {
    "duration": 6,
    "start_time": "2023-01-18T13:10:03.646Z"
   },
   {
    "duration": 21,
    "start_time": "2023-01-18T13:10:03.731Z"
   },
   {
    "duration": 6307,
    "start_time": "2023-01-18T13:10:17.432Z"
   },
   {
    "duration": 82,
    "start_time": "2023-01-18T13:10:23.746Z"
   },
   {
    "duration": 107,
    "start_time": "2023-01-18T13:10:23.830Z"
   },
   {
    "duration": 290,
    "start_time": "2023-01-18T13:10:23.939Z"
   },
   {
    "duration": 13,
    "start_time": "2023-01-18T13:10:24.238Z"
   },
   {
    "duration": 10,
    "start_time": "2023-01-18T13:10:24.326Z"
   },
   {
    "duration": 208,
    "start_time": "2023-01-18T13:10:24.337Z"
   },
   {
    "duration": 78,
    "start_time": "2023-01-18T13:10:24.549Z"
   },
   {
    "duration": 103,
    "start_time": "2023-01-18T13:10:24.632Z"
   },
   {
    "duration": 106,
    "start_time": "2023-01-18T13:10:24.737Z"
   },
   {
    "duration": 98,
    "start_time": "2023-01-18T13:10:24.847Z"
   },
   {
    "duration": 97,
    "start_time": "2023-01-18T13:10:24.953Z"
   },
   {
    "duration": 179,
    "start_time": "2023-01-18T13:10:25.052Z"
   },
   {
    "duration": 314,
    "start_time": "2023-01-18T13:10:25.233Z"
   },
   {
    "duration": 84,
    "start_time": "2023-01-18T13:10:25.551Z"
   },
   {
    "duration": 21048,
    "start_time": "2023-01-18T13:10:25.651Z"
   },
   {
    "duration": 5,
    "start_time": "2023-01-18T13:10:46.702Z"
   },
   {
    "duration": 100,
    "start_time": "2023-01-18T13:10:46.709Z"
   },
   {
    "duration": 182,
    "start_time": "2023-01-18T13:10:46.811Z"
   },
   {
    "duration": 8,
    "start_time": "2023-01-18T13:10:46.994Z"
   },
   {
    "duration": 87,
    "start_time": "2023-01-18T13:10:47.005Z"
   }
  ],
  "kernelspec": {
   "display_name": "Python 3 (ipykernel)",
   "language": "python",
   "name": "python3"
  },
  "language_info": {
   "codemirror_mode": {
    "name": "ipython",
    "version": 3
   },
   "file_extension": ".py",
   "mimetype": "text/x-python",
   "name": "python",
   "nbconvert_exporter": "python",
   "pygments_lexer": "ipython3",
   "version": "3.9.5"
  },
  "toc": {
   "base_numbering": 1,
   "nav_menu": {},
   "number_sections": true,
   "sideBar": true,
   "skip_h1_title": true,
   "title_cell": "Table of Contents",
   "title_sidebar": "Contents",
   "toc_cell": false,
   "toc_position": {
    "height": "calc(100% - 180px)",
    "left": "10px",
    "top": "150px",
    "width": "180px"
   },
   "toc_section_display": true,
   "toc_window_display": true
  }
 },
 "nbformat": 4,
 "nbformat_minor": 2
}
